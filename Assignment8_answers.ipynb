{
  "nbformat": 4,
  "nbformat_minor": 0,
  "metadata": {
    "colab": {
      "provenance": []
    },
    "kernelspec": {
      "name": "python3",
      "display_name": "Python 3"
    },
    "language_info": {
      "name": "python"
    }
  },
  "cells": [
    {
      "cell_type": "code",
      "execution_count": 12,
      "metadata": {
        "colab": {
          "base_uri": "https://localhost:8080/"
        },
        "id": "p6WvpFhGs9bm",
        "outputId": "e73dae0b-be74-4182-aa31-f2c4ebd346c7"
      },
      "outputs": [
        {
          "output_type": "stream",
          "name": "stdout",
          "text": [
            "231\n"
          ]
        }
      ],
      "source": [
        "#question 1\n",
        "def minimumDeleteSum(s1, s2):\n",
        "    m, n = len(s1), len(s2)\n",
        "\n",
        "    # Create a 2D table to store the minimum ASCII sum\n",
        "    # up to the i-th character of s1 and the j-th character of s2\n",
        "    dp = [[0] * (n + 1) for _ in range(m + 1)]\n",
        "\n",
        "    # Fill the first row and first column of the table\n",
        "    for i in range(1, m + 1):\n",
        "        dp[i][0] = dp[i-1][0] + ord(s1[i-1])\n",
        "    for j in range(1, n + 1):\n",
        "        dp[0][j] = dp[0][j-1] + ord(s2[j-1])\n",
        "\n",
        "    # Fill the rest of the table\n",
        "    for i in range(1, m + 1):\n",
        "        for j in range(1, n + 1):\n",
        "            if s1[i-1] == s2[j-1]:\n",
        "                dp[i][j] = dp[i-1][j-1]\n",
        "            else:\n",
        "                dp[i][j] = min(dp[i-1][j] + ord(s1[i-1]), dp[i][j-1] + ord(s2[j-1]))\n",
        "\n",
        "    return dp[m][n]\n",
        "\n",
        "s1 = \"sea\"\n",
        "s2 = \"eat\"\n",
        "\n",
        "output = minimumDeleteSum(s1, s2)\n",
        "print(output)\n",
        "\n",
        "#TC - O(m*n)\n",
        "#SC - O(m*n)\n"
      ]
    },
    {
      "cell_type": "code",
      "source": [
        "#question 2\n",
        "def isValid(s):\n",
        "    stack = []\n",
        "    star_stack = []\n",
        "\n",
        "    for char in s:\n",
        "        if char == '(':\n",
        "            stack.append(char)\n",
        "        elif char == '*':\n",
        "            star_stack.append(char)\n",
        "        elif char == ')':\n",
        "            if stack:\n",
        "                stack.pop()\n",
        "            elif star_stack:\n",
        "                star_stack.pop()\n",
        "            else:\n",
        "                return False\n",
        "\n",
        "    while stack and star_stack:\n",
        "        if stack[-1] > star_stack[-1]:\n",
        "            return False\n",
        "        stack.pop()\n",
        "        star_stack.pop()\n",
        "\n",
        "    return len(stack) == 0\n",
        "\n",
        "# Example usage:\n",
        "s = \"()\"\n",
        "output = isValid(s)\n",
        "print(output)\n",
        "\n",
        "#TC - O(n)\n",
        "#SC - O(n)"
      ],
      "metadata": {
        "colab": {
          "base_uri": "https://localhost:8080/"
        },
        "id": "W9-3qqU1tfo1",
        "outputId": "4f50a910-8550-4008-cf9a-1a0a6cfdae10"
      },
      "execution_count": 13,
      "outputs": [
        {
          "output_type": "stream",
          "name": "stdout",
          "text": [
            "True\n"
          ]
        }
      ]
    },
    {
      "cell_type": "code",
      "source": [
        "#question 3\n",
        "def minDistance(word1, word2):\n",
        "    m, n = len(word1), len(word2)\n",
        "\n",
        "    # Create a 2D table to store the minimum number of steps\n",
        "    dp = [[0] * (n + 1) for _ in range(m + 1)]\n",
        "\n",
        "    # Fill the first row and first column of the table\n",
        "    for i in range(1, m + 1):\n",
        "        dp[i][0] = i\n",
        "    for j in range(1, n + 1):\n",
        "        dp[0][j] = j\n",
        "\n",
        "    # Fill the rest of the table\n",
        "    for i in range(1, m + 1):\n",
        "        for j in range(1, n + 1):\n",
        "            if word1[i-1] == word2[j-1]:\n",
        "                dp[i][j] = dp[i-1][j-1]\n",
        "            else:\n",
        "                dp[i][j] = min(dp[i-1][j], dp[i][j-1]) + 1\n",
        "\n",
        "    return dp[m][n]\n",
        "\n",
        "# Example usage:\n",
        "word1 = \"sea\"\n",
        "word2 = \"eat\"\n",
        "output = minDistance(word1, word2)\n",
        "print(output)\n",
        "\n",
        "#TC - O(m*n)\n",
        "#SC - O(m*n)\n"
      ],
      "metadata": {
        "colab": {
          "base_uri": "https://localhost:8080/"
        },
        "id": "aB2T5q8UujcV",
        "outputId": "ee91581d-e816-4c88-97cb-cd7eee4b31c2"
      },
      "execution_count": 14,
      "outputs": [
        {
          "output_type": "stream",
          "name": "stdout",
          "text": [
            "2\n"
          ]
        }
      ]
    },
    {
      "cell_type": "code",
      "source": [
        "#question 4\n",
        "class TreeNode:\n",
        "    def __init__(self, val=0, left=None, right=None):\n",
        "        self.val = val\n",
        "        self.left = left\n",
        "        self.right = right\n",
        "\n",
        "def str2tree(s):\n",
        "    if not s:\n",
        "        return None\n",
        "\n",
        "    # Find the index of the first opening parenthesis\n",
        "    idx = s.find('(')\n",
        "\n",
        "    if idx == -1:\n",
        "        # No opening parenthesis found, so the entire string is the value of the root node\n",
        "        return TreeNode(int(s))\n",
        "\n",
        "    # Extract the value of the root node from the substring before the opening parenthesis\n",
        "    root_val = int(s[:idx])\n",
        "\n",
        "    # Count the parentheses to find the substring for the left and right child nodes\n",
        "    count = 0\n",
        "    for i in range(idx, len(s)):\n",
        "        if s[i] == '(':\n",
        "            count += 1\n",
        "        elif s[i] == ')':\n",
        "            count -= 1\n",
        "\n",
        "        if count == 0:\n",
        "            # Split the string into the left and right substrings (inside the parentheses)\n",
        "            left_str = s[idx + 1: i]\n",
        "            right_str = s[i + 2: -1]\n",
        "\n",
        "            # Recursively construct the left and right child nodes\n",
        "            left_child = str2tree(left_str)\n",
        "            right_child = str2tree(right_str)\n",
        "\n",
        "            # Create the root node with its children\n",
        "            return TreeNode(root_val, left_child, right_child)\n",
        "\n",
        "# Example usage:\n",
        "s = \"4(2(3)(1))(6(5))\"\n",
        "tree = str2tree(s)\n",
        "\n",
        "# Traverse the tree in pre-order and collect the values into a list\n",
        "def pre_order_traversal(node, result):\n",
        "    if node is None:\n",
        "        return\n",
        "\n",
        "    result.append(node.val)\n",
        "    pre_order_traversal(node.left, result)\n",
        "    pre_order_traversal(node.right, result)\n",
        "\n",
        "output = []\n",
        "pre_order_traversal(tree, output)\n",
        "print(output)\n",
        "\n",
        "#TC - O(n)\n",
        "#SC - O(n)\n"
      ],
      "metadata": {
        "colab": {
          "base_uri": "https://localhost:8080/"
        },
        "id": "oEffTneP1P0V",
        "outputId": "c94e75e8-cfca-4937-9f69-f275b0210058"
      },
      "execution_count": 15,
      "outputs": [
        {
          "output_type": "stream",
          "name": "stdout",
          "text": [
            "[4, 2, 3, 1, 6, 5]\n"
          ]
        }
      ]
    },
    {
      "cell_type": "code",
      "source": [
        "#question 5\n",
        "def compress(chars):\n",
        "    write = 0\n",
        "    count = 1\n",
        "\n",
        "    for i in range(1, len(chars) + 1):\n",
        "        if i < len(chars) and chars[i] == chars[i - 1]:\n",
        "            count += 1\n",
        "        else:\n",
        "            chars[write] = chars[i - 1]\n",
        "            write += 1\n",
        "\n",
        "            if count > 1:\n",
        "                count_str = str(count)\n",
        "                for j in range(len(count_str)):\n",
        "                    chars[write] = count_str[j]\n",
        "                    write += 1\n",
        "\n",
        "            count = 1\n",
        "\n",
        "    return write\n",
        "\n",
        "# Example usage:\n",
        "chars = [\"a\", \"a\", \"b\", \"b\", \"c\", \"c\", \"c\"]\n",
        "output_length = compress(chars)\n",
        "output_array = chars[:output_length]\n",
        "print(output_length)\n",
        "print(output_array)\n",
        "\n",
        "#TC - O(n)\n",
        "#SC - O(1)----no extra space\n"
      ],
      "metadata": {
        "colab": {
          "base_uri": "https://localhost:8080/"
        },
        "id": "DppOhyy01Yi2",
        "outputId": "2aa0b5dc-a815-41f2-9c2c-809eeb6fb5cd"
      },
      "execution_count": 16,
      "outputs": [
        {
          "output_type": "stream",
          "name": "stdout",
          "text": [
            "6\n",
            "['a', '2', 'b', '2', 'c', '3']\n"
          ]
        }
      ]
    },
    {
      "cell_type": "code",
      "source": [
        "#question 6\n",
        "from collections import Counter\n",
        "\n",
        "def findAnagrams(s, p):\n",
        "    result = []\n",
        "    p_counter = Counter(p)\n",
        "    s_counter = Counter(s[:len(p)])\n",
        "\n",
        "    if s_counter == p_counter:\n",
        "        result.append(0)\n",
        "\n",
        "    for i in range(len(p), len(s)):\n",
        "        if s_counter[s[i - len(p)]] == 1:\n",
        "            del s_counter[s[i - len(p)]]\n",
        "        else:\n",
        "            s_counter[s[i - len(p)]] -= 1\n",
        "\n",
        "        if s[i] in s_counter:\n",
        "            s_counter[s[i]] += 1\n",
        "        else:\n",
        "            s_counter[s[i]] = 1\n",
        "\n",
        "        if s_counter == p_counter:\n",
        "            result.append(i - len(p) + 1)\n",
        "\n",
        "    return result\n",
        "\n",
        "# Example usage:\n",
        "s = \"cbaebabacd\"\n",
        "p = \"abc\"\n",
        "output = findAnagrams(s, p)\n",
        "print(output)\n",
        "\n",
        "#TC - O(n)\n",
        "#SC - O(1)-----bounded by unique characters of p,s\n"
      ],
      "metadata": {
        "colab": {
          "base_uri": "https://localhost:8080/"
        },
        "id": "iB_UbRaF1yft",
        "outputId": "3a6cafe3-82aa-4a25-cd74-3e06f029f127"
      },
      "execution_count": 20,
      "outputs": [
        {
          "output_type": "stream",
          "name": "stdout",
          "text": [
            "[0, 6]\n"
          ]
        }
      ]
    },
    {
      "cell_type": "code",
      "source": [
        "#question 7\n",
        "def decodeString(s):\n",
        "    stack = []\n",
        "    current_str = \"\"\n",
        "    current_num = 0\n",
        "\n",
        "    for char in s:\n",
        "        if char.isdigit():\n",
        "            current_num = current_num * 10 + int(char)\n",
        "        elif char == '[':\n",
        "            stack.append((current_str, current_num))\n",
        "            current_str = \"\"\n",
        "            current_num = 0\n",
        "        elif char == ']':\n",
        "            prev_str, repeat_num = stack.pop()\n",
        "            current_str = prev_str + repeat_num * current_str\n",
        "        else:\n",
        "            current_str += char\n",
        "\n",
        "    return current_str\n",
        "\n",
        "# Example usage:\n",
        "s = \"3[a]2[bc]\"\n",
        "output = decodeString(s)\n",
        "print(output)\n",
        "\n",
        "\n",
        "#TC - O(n)\n",
        "#SC - O(n)"
      ],
      "metadata": {
        "colab": {
          "base_uri": "https://localhost:8080/"
        },
        "id": "69OVLTwQ44ku",
        "outputId": "bc030bcc-d573-4a0a-af84-1d1436fc9542"
      },
      "execution_count": 18,
      "outputs": [
        {
          "output_type": "stream",
          "name": "stdout",
          "text": [
            "aaabcbc\n"
          ]
        }
      ]
    },
    {
      "cell_type": "code",
      "source": [
        "#question 8\n",
        "def buddyStrings(s, goal):\n",
        "    if len(s) != len(goal):\n",
        "        return False\n",
        "\n",
        "    if s == goal:\n",
        "        # Check if s has any repeated characters\n",
        "        seen = set()\n",
        "        for char in s:\n",
        "            if char in seen:\n",
        "                return True\n",
        "            seen.add(char)\n",
        "        return False\n",
        "\n",
        "    diff_indices = []\n",
        "    for i in range(len(s)):\n",
        "        if s[i] != goal[i]:\n",
        "            diff_indices.append(i)\n",
        "\n",
        "    if len(diff_indices) != 2:\n",
        "        return False\n",
        "\n",
        "    i, j = diff_indices[0], diff_indices[1]\n",
        "    return s[i] == goal[j] and s[j] == goal[i]\n",
        "\n",
        "# Example usage:\n",
        "s = \"ab\"\n",
        "goal = \"ba\"\n",
        "output = buddyStrings(s, goal)\n",
        "print(output)\n",
        "\n",
        "#TC - O(n)\n",
        "#SC - O(1)"
      ],
      "metadata": {
        "colab": {
          "base_uri": "https://localhost:8080/"
        },
        "id": "2Nr_DmRC5dev",
        "outputId": "b53c5650-c17f-419d-ab6f-1ea3e7f41719"
      },
      "execution_count": 19,
      "outputs": [
        {
          "output_type": "stream",
          "name": "stdout",
          "text": [
            "True\n"
          ]
        }
      ]
    },
    {
      "cell_type": "code",
      "source": [],
      "metadata": {
        "id": "ctcDMiR7CM32"
      },
      "execution_count": null,
      "outputs": []
    }
  ]
}